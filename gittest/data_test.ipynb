{
 "cells": [
  {
   "cell_type": "markdown",
   "metadata": {},
   "source": [
    "### Import modules# "
   ]
  },
  {
   "cell_type": "code",
   "execution_count": 1,
   "metadata": {},
   "outputs": [],
   "source": [
    "import csv\n",
    "import pandas as pd\n",
    "import datetime\n",
    "import ipaddress\n",
    "import matplotlib.pyplot as plt\n",
    "from matplotlib.gridspec import GridSpec"
   ]
  },
  {
   "cell_type": "markdown",
   "metadata": {},
   "source": [
    "### Read in the csv and add headers to the columns"
   ]
  },
  {
   "cell_type": "code",
   "execution_count": 27,
   "metadata": {},
   "outputs": [],
   "source": [
    "df = pd.read_csv('../data/new_data.csv',\n",
    "                 names = ['IP_Address', 'Subnet_mask', 'In_use?', 'unix_timestamp'])"
   ]
  },
  {
   "cell_type": "markdown",
   "metadata": {},
   "source": [
    "### Combine IP_Address and Subnet_mask columns to create IP_Network column"
   ]
  },
  {
   "cell_type": "code",
   "execution_count": 3,
   "metadata": {},
   "outputs": [
    {
     "data": {
      "text/html": [
       "<div>\n",
       "<style scoped>\n",
       "    .dataframe tbody tr th:only-of-type {\n",
       "        vertical-align: middle;\n",
       "    }\n",
       "\n",
       "    .dataframe tbody tr th {\n",
       "        vertical-align: top;\n",
       "    }\n",
       "\n",
       "    .dataframe thead th {\n",
       "        text-align: right;\n",
       "    }\n",
       "</style>\n",
       "<table border=\"1\" class=\"dataframe\">\n",
       "  <thead>\n",
       "    <tr style=\"text-align: right;\">\n",
       "      <th></th>\n",
       "      <th>IP_Address</th>\n",
       "      <th>Subnet_mask</th>\n",
       "      <th>In_use?</th>\n",
       "      <th>unix_timestamp</th>\n",
       "      <th>IP_Network</th>\n",
       "    </tr>\n",
       "  </thead>\n",
       "  <tbody>\n",
       "    <tr>\n",
       "      <th>0</th>\n",
       "      <td>10.128.0.0</td>\n",
       "      <td>22</td>\n",
       "      <td>0</td>\n",
       "      <td>1525670182</td>\n",
       "      <td>10.128.0.0/22</td>\n",
       "    </tr>\n",
       "    <tr>\n",
       "      <th>1</th>\n",
       "      <td>10.128.4.0</td>\n",
       "      <td>22</td>\n",
       "      <td>0</td>\n",
       "      <td>1525670192</td>\n",
       "      <td>10.128.4.0/22</td>\n",
       "    </tr>\n",
       "    <tr>\n",
       "      <th>2</th>\n",
       "      <td>10.128.8.0</td>\n",
       "      <td>22</td>\n",
       "      <td>0</td>\n",
       "      <td>1525670202</td>\n",
       "      <td>10.128.8.0/22</td>\n",
       "    </tr>\n",
       "    <tr>\n",
       "      <th>3</th>\n",
       "      <td>10.128.12.0</td>\n",
       "      <td>22</td>\n",
       "      <td>0</td>\n",
       "      <td>1525670212</td>\n",
       "      <td>10.128.12.0/22</td>\n",
       "    </tr>\n",
       "    <tr>\n",
       "      <th>4</th>\n",
       "      <td>10.128.16.0</td>\n",
       "      <td>22</td>\n",
       "      <td>0</td>\n",
       "      <td>1525670222</td>\n",
       "      <td>10.128.16.0/22</td>\n",
       "    </tr>\n",
       "    <tr>\n",
       "      <th>5</th>\n",
       "      <td>10.128.128.0</td>\n",
       "      <td>24</td>\n",
       "      <td>0</td>\n",
       "      <td>1525670222</td>\n",
       "      <td>10.128.128.0/24</td>\n",
       "    </tr>\n",
       "    <tr>\n",
       "      <th>6</th>\n",
       "      <td>10.128.129.0</td>\n",
       "      <td>24</td>\n",
       "      <td>0</td>\n",
       "      <td>1525670222</td>\n",
       "      <td>10.128.129.0/24</td>\n",
       "    </tr>\n",
       "    <tr>\n",
       "      <th>7</th>\n",
       "      <td>10.128.130.0</td>\n",
       "      <td>24</td>\n",
       "      <td>0</td>\n",
       "      <td>1525670222</td>\n",
       "      <td>10.128.130.0/24</td>\n",
       "    </tr>\n",
       "    <tr>\n",
       "      <th>8</th>\n",
       "      <td>10.128.131.0</td>\n",
       "      <td>24</td>\n",
       "      <td>0</td>\n",
       "      <td>1525670222</td>\n",
       "      <td>10.128.131.0/24</td>\n",
       "    </tr>\n",
       "    <tr>\n",
       "      <th>9</th>\n",
       "      <td>10.128.132.0</td>\n",
       "      <td>22</td>\n",
       "      <td>0</td>\n",
       "      <td>1525670222</td>\n",
       "      <td>10.128.132.0/22</td>\n",
       "    </tr>\n",
       "  </tbody>\n",
       "</table>\n",
       "</div>"
      ],
      "text/plain": [
       "     IP_Address  Subnet_mask  In_use?  unix_timestamp       IP_Network\n",
       "0    10.128.0.0           22        0      1525670182    10.128.0.0/22\n",
       "1    10.128.4.0           22        0      1525670192    10.128.4.0/22\n",
       "2    10.128.8.0           22        0      1525670202    10.128.8.0/22\n",
       "3   10.128.12.0           22        0      1525670212   10.128.12.0/22\n",
       "4   10.128.16.0           22        0      1525670222   10.128.16.0/22\n",
       "5  10.128.128.0           24        0      1525670222  10.128.128.0/24\n",
       "6  10.128.129.0           24        0      1525670222  10.128.129.0/24\n",
       "7  10.128.130.0           24        0      1525670222  10.128.130.0/24\n",
       "8  10.128.131.0           24        0      1525670222  10.128.131.0/24\n",
       "9  10.128.132.0           22        0      1525670222  10.128.132.0/22"
      ]
     },
     "execution_count": 3,
     "metadata": {},
     "output_type": "execute_result"
    }
   ],
   "source": [
    "df['IP_Network'] = df['IP_Address'] + '/' + df['Subnet_mask'].map(str)\n",
    "df"
   ]
  },
  {
   "cell_type": "markdown",
   "metadata": {},
   "source": [
    "### Convert IP_Address column to ipaddress.ip_address object and IP_Network column to ipaddress.ip_network object"
   ]
  },
  {
   "cell_type": "code",
   "execution_count": 4,
   "metadata": {},
   "outputs": [],
   "source": [
    "df['IP_Address'] = df['IP_Address'].apply(ipaddress.ip_address)\n",
    "df['IP_Network'] = df['IP_Network'].apply(ipaddress.ip_network)"
   ]
  },
  {
   "cell_type": "code",
   "execution_count": 5,
   "metadata": {},
   "outputs": [
    {
     "data": {
      "text/html": [
       "<div>\n",
       "<style scoped>\n",
       "    .dataframe tbody tr th:only-of-type {\n",
       "        vertical-align: middle;\n",
       "    }\n",
       "\n",
       "    .dataframe tbody tr th {\n",
       "        vertical-align: top;\n",
       "    }\n",
       "\n",
       "    .dataframe thead th {\n",
       "        text-align: right;\n",
       "    }\n",
       "</style>\n",
       "<table border=\"1\" class=\"dataframe\">\n",
       "  <thead>\n",
       "    <tr style=\"text-align: right;\">\n",
       "      <th></th>\n",
       "      <th>IP_Address</th>\n",
       "      <th>Subnet_mask</th>\n",
       "      <th>In_use?</th>\n",
       "      <th>unix_timestamp</th>\n",
       "      <th>IP_Network</th>\n",
       "    </tr>\n",
       "  </thead>\n",
       "  <tbody>\n",
       "    <tr>\n",
       "      <th>0</th>\n",
       "      <td>10.128.0.0</td>\n",
       "      <td>22</td>\n",
       "      <td>0</td>\n",
       "      <td>1525670182</td>\n",
       "      <td>10.128.0.0/22</td>\n",
       "    </tr>\n",
       "    <tr>\n",
       "      <th>1</th>\n",
       "      <td>10.128.4.0</td>\n",
       "      <td>22</td>\n",
       "      <td>0</td>\n",
       "      <td>1525670192</td>\n",
       "      <td>10.128.4.0/22</td>\n",
       "    </tr>\n",
       "    <tr>\n",
       "      <th>2</th>\n",
       "      <td>10.128.8.0</td>\n",
       "      <td>22</td>\n",
       "      <td>0</td>\n",
       "      <td>1525670202</td>\n",
       "      <td>10.128.8.0/22</td>\n",
       "    </tr>\n",
       "    <tr>\n",
       "      <th>3</th>\n",
       "      <td>10.128.12.0</td>\n",
       "      <td>22</td>\n",
       "      <td>0</td>\n",
       "      <td>1525670212</td>\n",
       "      <td>10.128.12.0/22</td>\n",
       "    </tr>\n",
       "    <tr>\n",
       "      <th>4</th>\n",
       "      <td>10.128.16.0</td>\n",
       "      <td>22</td>\n",
       "      <td>0</td>\n",
       "      <td>1525670222</td>\n",
       "      <td>10.128.16.0/22</td>\n",
       "    </tr>\n",
       "    <tr>\n",
       "      <th>5</th>\n",
       "      <td>10.128.128.0</td>\n",
       "      <td>24</td>\n",
       "      <td>0</td>\n",
       "      <td>1525670222</td>\n",
       "      <td>10.128.128.0/24</td>\n",
       "    </tr>\n",
       "    <tr>\n",
       "      <th>6</th>\n",
       "      <td>10.128.129.0</td>\n",
       "      <td>24</td>\n",
       "      <td>0</td>\n",
       "      <td>1525670222</td>\n",
       "      <td>10.128.129.0/24</td>\n",
       "    </tr>\n",
       "    <tr>\n",
       "      <th>7</th>\n",
       "      <td>10.128.130.0</td>\n",
       "      <td>24</td>\n",
       "      <td>0</td>\n",
       "      <td>1525670222</td>\n",
       "      <td>10.128.130.0/24</td>\n",
       "    </tr>\n",
       "    <tr>\n",
       "      <th>8</th>\n",
       "      <td>10.128.131.0</td>\n",
       "      <td>24</td>\n",
       "      <td>0</td>\n",
       "      <td>1525670222</td>\n",
       "      <td>10.128.131.0/24</td>\n",
       "    </tr>\n",
       "    <tr>\n",
       "      <th>9</th>\n",
       "      <td>10.128.132.0</td>\n",
       "      <td>22</td>\n",
       "      <td>0</td>\n",
       "      <td>1525670222</td>\n",
       "      <td>10.128.132.0/22</td>\n",
       "    </tr>\n",
       "  </tbody>\n",
       "</table>\n",
       "</div>"
      ],
      "text/plain": [
       "     IP_Address  Subnet_mask  In_use?  unix_timestamp       IP_Network\n",
       "0    10.128.0.0           22        0      1525670182    10.128.0.0/22\n",
       "1    10.128.4.0           22        0      1525670192    10.128.4.0/22\n",
       "2    10.128.8.0           22        0      1525670202    10.128.8.0/22\n",
       "3   10.128.12.0           22        0      1525670212   10.128.12.0/22\n",
       "4   10.128.16.0           22        0      1525670222   10.128.16.0/22\n",
       "5  10.128.128.0           24        0      1525670222  10.128.128.0/24\n",
       "6  10.128.129.0           24        0      1525670222  10.128.129.0/24\n",
       "7  10.128.130.0           24        0      1525670222  10.128.130.0/24\n",
       "8  10.128.131.0           24        0      1525670222  10.128.131.0/24\n",
       "9  10.128.132.0           22        0      1525670222  10.128.132.0/22"
      ]
     },
     "execution_count": 5,
     "metadata": {},
     "output_type": "execute_result"
    }
   ],
   "source": [
    "df"
   ]
  },
  {
   "cell_type": "markdown",
   "metadata": {},
   "source": [
    "### Create dictionary for ratio of 24 to 22 subnet masks"
   ]
  },
  {
   "cell_type": "code",
   "execution_count": 6,
   "metadata": {},
   "outputs": [],
   "source": [
    "dic = {22:4, 24:1}"
   ]
  },
  {
   "cell_type": "markdown",
   "metadata": {},
   "source": [
    "# Add new column to hold ratio values"
   ]
  },
  {
   "cell_type": "code",
   "execution_count": 7,
   "metadata": {},
   "outputs": [],
   "source": [
    "df['mask_conversion'] = df['Subnet_mask'].map(dic)"
   ]
  },
  {
   "cell_type": "markdown",
   "metadata": {},
   "source": [
    "### Display new dataframe to verify new column addition"
   ]
  },
  {
   "cell_type": "code",
   "execution_count": 8,
   "metadata": {},
   "outputs": [
    {
     "data": {
      "text/html": [
       "<div>\n",
       "<style scoped>\n",
       "    .dataframe tbody tr th:only-of-type {\n",
       "        vertical-align: middle;\n",
       "    }\n",
       "\n",
       "    .dataframe tbody tr th {\n",
       "        vertical-align: top;\n",
       "    }\n",
       "\n",
       "    .dataframe thead th {\n",
       "        text-align: right;\n",
       "    }\n",
       "</style>\n",
       "<table border=\"1\" class=\"dataframe\">\n",
       "  <thead>\n",
       "    <tr style=\"text-align: right;\">\n",
       "      <th></th>\n",
       "      <th>IP_Address</th>\n",
       "      <th>Subnet_mask</th>\n",
       "      <th>In_use?</th>\n",
       "      <th>unix_timestamp</th>\n",
       "      <th>IP_Network</th>\n",
       "      <th>mask_conversion</th>\n",
       "    </tr>\n",
       "  </thead>\n",
       "  <tbody>\n",
       "    <tr>\n",
       "      <th>0</th>\n",
       "      <td>10.128.0.0</td>\n",
       "      <td>22</td>\n",
       "      <td>0</td>\n",
       "      <td>1525670182</td>\n",
       "      <td>10.128.0.0/22</td>\n",
       "      <td>4</td>\n",
       "    </tr>\n",
       "    <tr>\n",
       "      <th>1</th>\n",
       "      <td>10.128.4.0</td>\n",
       "      <td>22</td>\n",
       "      <td>0</td>\n",
       "      <td>1525670192</td>\n",
       "      <td>10.128.4.0/22</td>\n",
       "      <td>4</td>\n",
       "    </tr>\n",
       "    <tr>\n",
       "      <th>2</th>\n",
       "      <td>10.128.8.0</td>\n",
       "      <td>22</td>\n",
       "      <td>0</td>\n",
       "      <td>1525670202</td>\n",
       "      <td>10.128.8.0/22</td>\n",
       "      <td>4</td>\n",
       "    </tr>\n",
       "    <tr>\n",
       "      <th>3</th>\n",
       "      <td>10.128.12.0</td>\n",
       "      <td>22</td>\n",
       "      <td>0</td>\n",
       "      <td>1525670212</td>\n",
       "      <td>10.128.12.0/22</td>\n",
       "      <td>4</td>\n",
       "    </tr>\n",
       "    <tr>\n",
       "      <th>4</th>\n",
       "      <td>10.128.16.0</td>\n",
       "      <td>22</td>\n",
       "      <td>0</td>\n",
       "      <td>1525670222</td>\n",
       "      <td>10.128.16.0/22</td>\n",
       "      <td>4</td>\n",
       "    </tr>\n",
       "    <tr>\n",
       "      <th>5</th>\n",
       "      <td>10.128.128.0</td>\n",
       "      <td>24</td>\n",
       "      <td>0</td>\n",
       "      <td>1525670222</td>\n",
       "      <td>10.128.128.0/24</td>\n",
       "      <td>1</td>\n",
       "    </tr>\n",
       "    <tr>\n",
       "      <th>6</th>\n",
       "      <td>10.128.129.0</td>\n",
       "      <td>24</td>\n",
       "      <td>0</td>\n",
       "      <td>1525670222</td>\n",
       "      <td>10.128.129.0/24</td>\n",
       "      <td>1</td>\n",
       "    </tr>\n",
       "    <tr>\n",
       "      <th>7</th>\n",
       "      <td>10.128.130.0</td>\n",
       "      <td>24</td>\n",
       "      <td>0</td>\n",
       "      <td>1525670222</td>\n",
       "      <td>10.128.130.0/24</td>\n",
       "      <td>1</td>\n",
       "    </tr>\n",
       "    <tr>\n",
       "      <th>8</th>\n",
       "      <td>10.128.131.0</td>\n",
       "      <td>24</td>\n",
       "      <td>0</td>\n",
       "      <td>1525670222</td>\n",
       "      <td>10.128.131.0/24</td>\n",
       "      <td>1</td>\n",
       "    </tr>\n",
       "    <tr>\n",
       "      <th>9</th>\n",
       "      <td>10.128.132.0</td>\n",
       "      <td>22</td>\n",
       "      <td>0</td>\n",
       "      <td>1525670222</td>\n",
       "      <td>10.128.132.0/22</td>\n",
       "      <td>4</td>\n",
       "    </tr>\n",
       "  </tbody>\n",
       "</table>\n",
       "</div>"
      ],
      "text/plain": [
       "     IP_Address  Subnet_mask  In_use?  unix_timestamp       IP_Network  \\\n",
       "0    10.128.0.0           22        0      1525670182    10.128.0.0/22   \n",
       "1    10.128.4.0           22        0      1525670192    10.128.4.0/22   \n",
       "2    10.128.8.0           22        0      1525670202    10.128.8.0/22   \n",
       "3   10.128.12.0           22        0      1525670212   10.128.12.0/22   \n",
       "4   10.128.16.0           22        0      1525670222   10.128.16.0/22   \n",
       "5  10.128.128.0           24        0      1525670222  10.128.128.0/24   \n",
       "6  10.128.129.0           24        0      1525670222  10.128.129.0/24   \n",
       "7  10.128.130.0           24        0      1525670222  10.128.130.0/24   \n",
       "8  10.128.131.0           24        0      1525670222  10.128.131.0/24   \n",
       "9  10.128.132.0           22        0      1525670222  10.128.132.0/22   \n",
       "\n",
       "   mask_conversion  \n",
       "0                4  \n",
       "1                4  \n",
       "2                4  \n",
       "3                4  \n",
       "4                4  \n",
       "5                1  \n",
       "6                1  \n",
       "7                1  \n",
       "8                1  \n",
       "9                4  "
      ]
     },
     "execution_count": 8,
     "metadata": {},
     "output_type": "execute_result"
    }
   ],
   "source": [
    "df"
   ]
  },
  {
   "cell_type": "markdown",
   "metadata": {},
   "source": [
    "### Create new column for number of addresses per subnet"
   ]
  },
  {
   "cell_type": "code",
   "execution_count": 9,
   "metadata": {},
   "outputs": [
    {
     "data": {
      "text/html": [
       "<div>\n",
       "<style scoped>\n",
       "    .dataframe tbody tr th:only-of-type {\n",
       "        vertical-align: middle;\n",
       "    }\n",
       "\n",
       "    .dataframe tbody tr th {\n",
       "        vertical-align: top;\n",
       "    }\n",
       "\n",
       "    .dataframe thead th {\n",
       "        text-align: right;\n",
       "    }\n",
       "</style>\n",
       "<table border=\"1\" class=\"dataframe\">\n",
       "  <thead>\n",
       "    <tr style=\"text-align: right;\">\n",
       "      <th></th>\n",
       "      <th>IP_Address</th>\n",
       "      <th>Subnet_mask</th>\n",
       "      <th>In_use?</th>\n",
       "      <th>unix_timestamp</th>\n",
       "      <th>IP_Network</th>\n",
       "      <th>mask_conversion</th>\n",
       "      <th>num_addresses</th>\n",
       "    </tr>\n",
       "  </thead>\n",
       "  <tbody>\n",
       "    <tr>\n",
       "      <th>0</th>\n",
       "      <td>10.128.0.0</td>\n",
       "      <td>22</td>\n",
       "      <td>0</td>\n",
       "      <td>1525670182</td>\n",
       "      <td>10.128.0.0/22</td>\n",
       "      <td>4</td>\n",
       "      <td>1024</td>\n",
       "    </tr>\n",
       "    <tr>\n",
       "      <th>1</th>\n",
       "      <td>10.128.4.0</td>\n",
       "      <td>22</td>\n",
       "      <td>0</td>\n",
       "      <td>1525670192</td>\n",
       "      <td>10.128.4.0/22</td>\n",
       "      <td>4</td>\n",
       "      <td>1024</td>\n",
       "    </tr>\n",
       "    <tr>\n",
       "      <th>2</th>\n",
       "      <td>10.128.8.0</td>\n",
       "      <td>22</td>\n",
       "      <td>0</td>\n",
       "      <td>1525670202</td>\n",
       "      <td>10.128.8.0/22</td>\n",
       "      <td>4</td>\n",
       "      <td>1024</td>\n",
       "    </tr>\n",
       "    <tr>\n",
       "      <th>3</th>\n",
       "      <td>10.128.12.0</td>\n",
       "      <td>22</td>\n",
       "      <td>0</td>\n",
       "      <td>1525670212</td>\n",
       "      <td>10.128.12.0/22</td>\n",
       "      <td>4</td>\n",
       "      <td>1024</td>\n",
       "    </tr>\n",
       "    <tr>\n",
       "      <th>4</th>\n",
       "      <td>10.128.16.0</td>\n",
       "      <td>22</td>\n",
       "      <td>0</td>\n",
       "      <td>1525670222</td>\n",
       "      <td>10.128.16.0/22</td>\n",
       "      <td>4</td>\n",
       "      <td>1024</td>\n",
       "    </tr>\n",
       "    <tr>\n",
       "      <th>5</th>\n",
       "      <td>10.128.128.0</td>\n",
       "      <td>24</td>\n",
       "      <td>0</td>\n",
       "      <td>1525670222</td>\n",
       "      <td>10.128.128.0/24</td>\n",
       "      <td>1</td>\n",
       "      <td>256</td>\n",
       "    </tr>\n",
       "    <tr>\n",
       "      <th>6</th>\n",
       "      <td>10.128.129.0</td>\n",
       "      <td>24</td>\n",
       "      <td>0</td>\n",
       "      <td>1525670222</td>\n",
       "      <td>10.128.129.0/24</td>\n",
       "      <td>1</td>\n",
       "      <td>256</td>\n",
       "    </tr>\n",
       "    <tr>\n",
       "      <th>7</th>\n",
       "      <td>10.128.130.0</td>\n",
       "      <td>24</td>\n",
       "      <td>0</td>\n",
       "      <td>1525670222</td>\n",
       "      <td>10.128.130.0/24</td>\n",
       "      <td>1</td>\n",
       "      <td>256</td>\n",
       "    </tr>\n",
       "    <tr>\n",
       "      <th>8</th>\n",
       "      <td>10.128.131.0</td>\n",
       "      <td>24</td>\n",
       "      <td>0</td>\n",
       "      <td>1525670222</td>\n",
       "      <td>10.128.131.0/24</td>\n",
       "      <td>1</td>\n",
       "      <td>256</td>\n",
       "    </tr>\n",
       "    <tr>\n",
       "      <th>9</th>\n",
       "      <td>10.128.132.0</td>\n",
       "      <td>22</td>\n",
       "      <td>0</td>\n",
       "      <td>1525670222</td>\n",
       "      <td>10.128.132.0/22</td>\n",
       "      <td>4</td>\n",
       "      <td>1024</td>\n",
       "    </tr>\n",
       "  </tbody>\n",
       "</table>\n",
       "</div>"
      ],
      "text/plain": [
       "     IP_Address  Subnet_mask  In_use?  unix_timestamp       IP_Network  \\\n",
       "0    10.128.0.0           22        0      1525670182    10.128.0.0/22   \n",
       "1    10.128.4.0           22        0      1525670192    10.128.4.0/22   \n",
       "2    10.128.8.0           22        0      1525670202    10.128.8.0/22   \n",
       "3   10.128.12.0           22        0      1525670212   10.128.12.0/22   \n",
       "4   10.128.16.0           22        0      1525670222   10.128.16.0/22   \n",
       "5  10.128.128.0           24        0      1525670222  10.128.128.0/24   \n",
       "6  10.128.129.0           24        0      1525670222  10.128.129.0/24   \n",
       "7  10.128.130.0           24        0      1525670222  10.128.130.0/24   \n",
       "8  10.128.131.0           24        0      1525670222  10.128.131.0/24   \n",
       "9  10.128.132.0           22        0      1525670222  10.128.132.0/22   \n",
       "\n",
       "   mask_conversion  num_addresses  \n",
       "0                4           1024  \n",
       "1                4           1024  \n",
       "2                4           1024  \n",
       "3                4           1024  \n",
       "4                4           1024  \n",
       "5                1            256  \n",
       "6                1            256  \n",
       "7                1            256  \n",
       "8                1            256  \n",
       "9                4           1024  "
      ]
     },
     "execution_count": 9,
     "metadata": {},
     "output_type": "execute_result"
    }
   ],
   "source": [
    "df['num_addresses'] = (df['mask_conversion']*256)\n",
    "df"
   ]
  },
  {
   "cell_type": "markdown",
   "metadata": {},
   "source": [
    "### Summing num_addresses column to get count of total IP addresses"
   ]
  },
  {
   "cell_type": "code",
   "execution_count": 10,
   "metadata": {},
   "outputs": [
    {
     "name": "stdout",
     "output_type": "stream",
     "text": [
      "number of /24s: 28\n"
     ]
    }
   ],
   "source": [
    "#IP_count = df['num_addresses'].sum()\n",
    "count_24s = df['mask_conversion'].sum()\n",
    "#print(\"Number of IP Addresses:\", IP_count)\n",
    "print(\"number of /24s:\", count_24s)"
   ]
  },
  {
   "cell_type": "markdown",
   "metadata": {},
   "source": [
    "### total addresses = number of addresses in a /16 network\n",
    "### Caluculated percent of a /16 network"
   ]
  },
  {
   "cell_type": "code",
   "execution_count": 11,
   "metadata": {},
   "outputs": [
    {
     "name": "stdout",
     "output_type": "stream",
     "text": [
      "percent used: 10.9375\n"
     ]
    }
   ],
   "source": [
    "#total_addresses = 65534\n",
    "total_24s_per_16 = 256\n",
    "#pct_used = (IP_count/total_addresses)*100\n",
    "pct_16_used = (count_24s/total_24s_per_16)*100\n",
    "#print(\"percent used:\", pct_used)\n",
    "print(\"percent used:\", pct_16_used)"
   ]
  },
  {
   "cell_type": "markdown",
   "metadata": {},
   "source": [
    "### Pie chart of /24 usage per /16 network"
   ]
  },
  {
   "cell_type": "code",
   "execution_count": 21,
   "metadata": {},
   "outputs": [
    {
     "data": {
      "image/png": "[encoded data removed]",
      "text/plain": [
       "<matplotlib.figure.Figure at 0x43cd2cc4a8>"
      ]
     },
     "metadata": {},
     "output_type": "display_data"
    }
   ],
   "source": [
    "labels = 'IPs added', 'unused network'\n",
    "fracs = [count_24s, (total_24s_per_16 - count_24s)]\n",
    "explode = (0.05, 0)\n",
    "grid = GridSpec(1,1)\n",
    "plt.subplot(grid[0,0], aspect=1)\n",
    "plt.pie(fracs, explode=explode, labels=labels, autopct='%1.1f%%', shadow=True)\n",
    "plt.title(\"Percentage of /16 network utilized\")\n",
    "plt.savefig(\"test_figures/IP_pct_pie\", dpi=100)"
   ]
  },
  {
   "cell_type": "markdown",
   "metadata": {},
   "source": [
    "### Convert unix_timestamp to datetime and display new dataframe"
   ]
  },
  {
   "cell_type": "code",
   "execution_count": 13,
   "metadata": {},
   "outputs": [
    {
     "data": {
      "text/html": [
       "<div>\n",
       "<style scoped>\n",
       "    .dataframe tbody tr th:only-of-type {\n",
       "        vertical-align: middle;\n",
       "    }\n",
       "\n",
       "    .dataframe tbody tr th {\n",
       "        vertical-align: top;\n",
       "    }\n",
       "\n",
       "    .dataframe thead th {\n",
       "        text-align: right;\n",
       "    }\n",
       "</style>\n",
       "<table border=\"1\" class=\"dataframe\">\n",
       "  <thead>\n",
       "    <tr style=\"text-align: right;\">\n",
       "      <th></th>\n",
       "      <th>IP_Address</th>\n",
       "      <th>Subnet_mask</th>\n",
       "      <th>In_use?</th>\n",
       "      <th>unix_timestamp</th>\n",
       "      <th>IP_Network</th>\n",
       "      <th>mask_conversion</th>\n",
       "      <th>num_addresses</th>\n",
       "      <th>date</th>\n",
       "    </tr>\n",
       "  </thead>\n",
       "  <tbody>\n",
       "    <tr>\n",
       "      <th>0</th>\n",
       "      <td>10.128.0.0</td>\n",
       "      <td>22</td>\n",
       "      <td>0</td>\n",
       "      <td>1525670182</td>\n",
       "      <td>10.128.0.0/22</td>\n",
       "      <td>4</td>\n",
       "      <td>1024</td>\n",
       "      <td>2018-05-07 05:16:22</td>\n",
       "    </tr>\n",
       "    <tr>\n",
       "      <th>1</th>\n",
       "      <td>10.128.4.0</td>\n",
       "      <td>22</td>\n",
       "      <td>0</td>\n",
       "      <td>1525670192</td>\n",
       "      <td>10.128.4.0/22</td>\n",
       "      <td>4</td>\n",
       "      <td>1024</td>\n",
       "      <td>2018-05-07 05:16:32</td>\n",
       "    </tr>\n",
       "    <tr>\n",
       "      <th>2</th>\n",
       "      <td>10.128.8.0</td>\n",
       "      <td>22</td>\n",
       "      <td>0</td>\n",
       "      <td>1525670202</td>\n",
       "      <td>10.128.8.0/22</td>\n",
       "      <td>4</td>\n",
       "      <td>1024</td>\n",
       "      <td>2018-05-07 05:16:42</td>\n",
       "    </tr>\n",
       "    <tr>\n",
       "      <th>3</th>\n",
       "      <td>10.128.12.0</td>\n",
       "      <td>22</td>\n",
       "      <td>0</td>\n",
       "      <td>1525670212</td>\n",
       "      <td>10.128.12.0/22</td>\n",
       "      <td>4</td>\n",
       "      <td>1024</td>\n",
       "      <td>2018-05-07 05:16:52</td>\n",
       "    </tr>\n",
       "    <tr>\n",
       "      <th>4</th>\n",
       "      <td>10.128.16.0</td>\n",
       "      <td>22</td>\n",
       "      <td>0</td>\n",
       "      <td>1525670222</td>\n",
       "      <td>10.128.16.0/22</td>\n",
       "      <td>4</td>\n",
       "      <td>1024</td>\n",
       "      <td>2018-05-07 05:17:02</td>\n",
       "    </tr>\n",
       "    <tr>\n",
       "      <th>5</th>\n",
       "      <td>10.128.128.0</td>\n",
       "      <td>24</td>\n",
       "      <td>0</td>\n",
       "      <td>1525670222</td>\n",
       "      <td>10.128.128.0/24</td>\n",
       "      <td>1</td>\n",
       "      <td>256</td>\n",
       "      <td>2018-05-07 05:17:02</td>\n",
       "    </tr>\n",
       "    <tr>\n",
       "      <th>6</th>\n",
       "      <td>10.128.129.0</td>\n",
       "      <td>24</td>\n",
       "      <td>0</td>\n",
       "      <td>1525670222</td>\n",
       "      <td>10.128.129.0/24</td>\n",
       "      <td>1</td>\n",
       "      <td>256</td>\n",
       "      <td>2018-05-07 05:17:02</td>\n",
       "    </tr>\n",
       "    <tr>\n",
       "      <th>7</th>\n",
       "      <td>10.128.130.0</td>\n",
       "      <td>24</td>\n",
       "      <td>0</td>\n",
       "      <td>1525670222</td>\n",
       "      <td>10.128.130.0/24</td>\n",
       "      <td>1</td>\n",
       "      <td>256</td>\n",
       "      <td>2018-05-07 05:17:02</td>\n",
       "    </tr>\n",
       "    <tr>\n",
       "      <th>8</th>\n",
       "      <td>10.128.131.0</td>\n",
       "      <td>24</td>\n",
       "      <td>0</td>\n",
       "      <td>1525670222</td>\n",
       "      <td>10.128.131.0/24</td>\n",
       "      <td>1</td>\n",
       "      <td>256</td>\n",
       "      <td>2018-05-07 05:17:02</td>\n",
       "    </tr>\n",
       "    <tr>\n",
       "      <th>9</th>\n",
       "      <td>10.128.132.0</td>\n",
       "      <td>22</td>\n",
       "      <td>0</td>\n",
       "      <td>1525670222</td>\n",
       "      <td>10.128.132.0/22</td>\n",
       "      <td>4</td>\n",
       "      <td>1024</td>\n",
       "      <td>2018-05-07 05:17:02</td>\n",
       "    </tr>\n",
       "  </tbody>\n",
       "</table>\n",
       "</div>"
      ],
      "text/plain": [
       "     IP_Address  Subnet_mask  In_use?  unix_timestamp       IP_Network  \\\n",
       "0    10.128.0.0           22        0      1525670182    10.128.0.0/22   \n",
       "1    10.128.4.0           22        0      1525670192    10.128.4.0/22   \n",
       "2    10.128.8.0           22        0      1525670202    10.128.8.0/22   \n",
       "3   10.128.12.0           22        0      1525670212   10.128.12.0/22   \n",
       "4   10.128.16.0           22        0      1525670222   10.128.16.0/22   \n",
       "5  10.128.128.0           24        0      1525670222  10.128.128.0/24   \n",
       "6  10.128.129.0           24        0      1525670222  10.128.129.0/24   \n",
       "7  10.128.130.0           24        0      1525670222  10.128.130.0/24   \n",
       "8  10.128.131.0           24        0      1525670222  10.128.131.0/24   \n",
       "9  10.128.132.0           22        0      1525670222  10.128.132.0/22   \n",
       "\n",
       "   mask_conversion  num_addresses                date  \n",
       "0                4           1024 2018-05-07 05:16:22  \n",
       "1                4           1024 2018-05-07 05:16:32  \n",
       "2                4           1024 2018-05-07 05:16:42  \n",
       "3                4           1024 2018-05-07 05:16:52  \n",
       "4                4           1024 2018-05-07 05:17:02  \n",
       "5                1            256 2018-05-07 05:17:02  \n",
       "6                1            256 2018-05-07 05:17:02  \n",
       "7                1            256 2018-05-07 05:17:02  \n",
       "8                1            256 2018-05-07 05:17:02  \n",
       "9                4           1024 2018-05-07 05:17:02  "
      ]
     },
     "execution_count": 13,
     "metadata": {},
     "output_type": "execute_result"
    }
   ],
   "source": [
    "df['date'] = pd.to_datetime(df['unix_timestamp'], unit='s')\n",
    "df"
   ]
  },
  {
   "cell_type": "markdown",
   "metadata": {},
   "source": [
    "### Creating new dataframe for analyzing ip address additions over time"
   ]
  },
  {
   "cell_type": "code",
   "execution_count": 14,
   "metadata": {},
   "outputs": [],
   "source": [
    "#ip_per_10sec = df[['date', 'num_addresses']]\n",
    "ip_per_10sec = df[['date', 'mask_conversion']]"
   ]
  },
  {
   "cell_type": "markdown",
   "metadata": {},
   "source": [
    "### Setting index to date"
   ]
  },
  {
   "cell_type": "code",
   "execution_count": 15,
   "metadata": {},
   "outputs": [
    {
     "data": {
      "text/html": [
       "<div>\n",
       "<style scoped>\n",
       "    .dataframe tbody tr th:only-of-type {\n",
       "        vertical-align: middle;\n",
       "    }\n",
       "\n",
       "    .dataframe tbody tr th {\n",
       "        vertical-align: top;\n",
       "    }\n",
       "\n",
       "    .dataframe thead th {\n",
       "        text-align: right;\n",
       "    }\n",
       "</style>\n",
       "<table border=\"1\" class=\"dataframe\">\n",
       "  <thead>\n",
       "    <tr style=\"text-align: right;\">\n",
       "      <th></th>\n",
       "      <th>mask_conversion</th>\n",
       "    </tr>\n",
       "    <tr>\n",
       "      <th>date</th>\n",
       "      <th></th>\n",
       "    </tr>\n",
       "  </thead>\n",
       "  <tbody>\n",
       "    <tr>\n",
       "      <th>2018-05-07 05:16:22</th>\n",
       "      <td>4</td>\n",
       "    </tr>\n",
       "    <tr>\n",
       "      <th>2018-05-07 05:16:32</th>\n",
       "      <td>4</td>\n",
       "    </tr>\n",
       "    <tr>\n",
       "      <th>2018-05-07 05:16:42</th>\n",
       "      <td>4</td>\n",
       "    </tr>\n",
       "    <tr>\n",
       "      <th>2018-05-07 05:16:52</th>\n",
       "      <td>4</td>\n",
       "    </tr>\n",
       "    <tr>\n",
       "      <th>2018-05-07 05:17:02</th>\n",
       "      <td>4</td>\n",
       "    </tr>\n",
       "    <tr>\n",
       "      <th>2018-05-07 05:17:02</th>\n",
       "      <td>1</td>\n",
       "    </tr>\n",
       "    <tr>\n",
       "      <th>2018-05-07 05:17:02</th>\n",
       "      <td>1</td>\n",
       "    </tr>\n",
       "    <tr>\n",
       "      <th>2018-05-07 05:17:02</th>\n",
       "      <td>1</td>\n",
       "    </tr>\n",
       "    <tr>\n",
       "      <th>2018-05-07 05:17:02</th>\n",
       "      <td>1</td>\n",
       "    </tr>\n",
       "    <tr>\n",
       "      <th>2018-05-07 05:17:02</th>\n",
       "      <td>4</td>\n",
       "    </tr>\n",
       "  </tbody>\n",
       "</table>\n",
       "</div>"
      ],
      "text/plain": [
       "                     mask_conversion\n",
       "date                                \n",
       "2018-05-07 05:16:22                4\n",
       "2018-05-07 05:16:32                4\n",
       "2018-05-07 05:16:42                4\n",
       "2018-05-07 05:16:52                4\n",
       "2018-05-07 05:17:02                4\n",
       "2018-05-07 05:17:02                1\n",
       "2018-05-07 05:17:02                1\n",
       "2018-05-07 05:17:02                1\n",
       "2018-05-07 05:17:02                1\n",
       "2018-05-07 05:17:02                4"
      ]
     },
     "execution_count": 15,
     "metadata": {},
     "output_type": "execute_result"
    }
   ],
   "source": [
    "ip_per_10sec = ip_per_10sec.set_index(['date'])\n",
    "ip_per_10sec\n",
    "#df['minute'] = df['date'].apply()"
   ]
  },
  {
   "cell_type": "markdown",
   "metadata": {},
   "source": [
    "### Grouping by Date and summing the number of addresses per date group"
   ]
  },
  {
   "cell_type": "code",
   "execution_count": 16,
   "metadata": {},
   "outputs": [],
   "source": [
    "#ip_per_10sec.index = ip_per_10sec.index.map(lambda x: x.replace(second=0))\n",
    "ip_per_10sec = ip_per_10sec.groupby(['date']).sum()"
   ]
  },
  {
   "cell_type": "markdown",
   "metadata": {},
   "source": [
    "### Number of IP addresses created every 10 seconds"
   ]
  },
  {
   "cell_type": "code",
   "execution_count": 17,
   "metadata": {},
   "outputs": [
    {
     "data": {
      "text/html": [
       "<div>\n",
       "<style scoped>\n",
       "    .dataframe tbody tr th:only-of-type {\n",
       "        vertical-align: middle;\n",
       "    }\n",
       "\n",
       "    .dataframe tbody tr th {\n",
       "        vertical-align: top;\n",
       "    }\n",
       "\n",
       "    .dataframe thead th {\n",
       "        text-align: right;\n",
       "    }\n",
       "</style>\n",
       "<table border=\"1\" class=\"dataframe\">\n",
       "  <thead>\n",
       "    <tr style=\"text-align: right;\">\n",
       "      <th></th>\n",
       "      <th>mask_conversion</th>\n",
       "    </tr>\n",
       "    <tr>\n",
       "      <th>date</th>\n",
       "      <th></th>\n",
       "    </tr>\n",
       "  </thead>\n",
       "  <tbody>\n",
       "    <tr>\n",
       "      <th>2018-05-07 05:16:22</th>\n",
       "      <td>4</td>\n",
       "    </tr>\n",
       "    <tr>\n",
       "      <th>2018-05-07 05:16:32</th>\n",
       "      <td>4</td>\n",
       "    </tr>\n",
       "    <tr>\n",
       "      <th>2018-05-07 05:16:42</th>\n",
       "      <td>4</td>\n",
       "    </tr>\n",
       "    <tr>\n",
       "      <th>2018-05-07 05:16:52</th>\n",
       "      <td>4</td>\n",
       "    </tr>\n",
       "    <tr>\n",
       "      <th>2018-05-07 05:17:02</th>\n",
       "      <td>12</td>\n",
       "    </tr>\n",
       "  </tbody>\n",
       "</table>\n",
       "</div>"
      ],
      "text/plain": [
       "                     mask_conversion\n",
       "date                                \n",
       "2018-05-07 05:16:22                4\n",
       "2018-05-07 05:16:32                4\n",
       "2018-05-07 05:16:42                4\n",
       "2018-05-07 05:16:52                4\n",
       "2018-05-07 05:17:02               12"
      ]
     },
     "execution_count": 17,
     "metadata": {},
     "output_type": "execute_result"
    }
   ],
   "source": [
    "ip_per_10sec"
   ]
  },
  {
   "cell_type": "markdown",
   "metadata": {},
   "source": [
    "### Plot of number of IP addresses added to network at each point in time"
   ]
  },
  {
   "cell_type": "code",
   "execution_count": 20,
   "metadata": {},
   "outputs": [
    {
     "data": {
      "image/png": "[encoded data removed]",
      "text/plain": [
       "<matplotlib.figure.Figure at 0x43cd2c0048>"
      ]
     },
     "metadata": {},
     "output_type": "display_data"
    }
   ],
   "source": [
    "%matplotlib inline\n",
    "ip_per_10sec.plot()\n",
    "plt.ylabel(\"Number or IP Addresses\")\n",
    "plt.xlabel(\"time\")\n",
    "plt.title(\"IP Addresses added to network over time\")\n",
    "plt.savefig(\"test_figures/IP_Addition\", dpi=100)"
   ]
  },
  {
   "cell_type": "markdown",
   "metadata": {},
   "source": [
    "### Adding column to hold cumulative summation of  IP addresses over time"
   ]
  },
  {
   "cell_type": "code",
   "execution_count": 22,
   "metadata": {},
   "outputs": [
    {
     "data": {
      "text/html": [
       "<div>\n",
       "<style scoped>\n",
       "    .dataframe tbody tr th:only-of-type {\n",
       "        vertical-align: middle;\n",
       "    }\n",
       "\n",
       "    .dataframe tbody tr th {\n",
       "        vertical-align: top;\n",
       "    }\n",
       "\n",
       "    .dataframe thead th {\n",
       "        text-align: right;\n",
       "    }\n",
       "</style>\n",
       "<table border=\"1\" class=\"dataframe\">\n",
       "  <thead>\n",
       "    <tr style=\"text-align: right;\">\n",
       "      <th></th>\n",
       "      <th>mask_conversion</th>\n",
       "      <th>ip_cumul</th>\n",
       "    </tr>\n",
       "    <tr>\n",
       "      <th>date</th>\n",
       "      <th></th>\n",
       "      <th></th>\n",
       "    </tr>\n",
       "  </thead>\n",
       "  <tbody>\n",
       "    <tr>\n",
       "      <th>2018-05-07 05:16:22</th>\n",
       "      <td>4</td>\n",
       "      <td>4</td>\n",
       "    </tr>\n",
       "    <tr>\n",
       "      <th>2018-05-07 05:16:32</th>\n",
       "      <td>4</td>\n",
       "      <td>8</td>\n",
       "    </tr>\n",
       "    <tr>\n",
       "      <th>2018-05-07 05:16:42</th>\n",
       "      <td>4</td>\n",
       "      <td>12</td>\n",
       "    </tr>\n",
       "    <tr>\n",
       "      <th>2018-05-07 05:16:52</th>\n",
       "      <td>4</td>\n",
       "      <td>16</td>\n",
       "    </tr>\n",
       "    <tr>\n",
       "      <th>2018-05-07 05:17:02</th>\n",
       "      <td>12</td>\n",
       "      <td>28</td>\n",
       "    </tr>\n",
       "  </tbody>\n",
       "</table>\n",
       "</div>"
      ],
      "text/plain": [
       "                     mask_conversion  ip_cumul\n",
       "date                                          \n",
       "2018-05-07 05:16:22                4         4\n",
       "2018-05-07 05:16:32                4         8\n",
       "2018-05-07 05:16:42                4        12\n",
       "2018-05-07 05:16:52                4        16\n",
       "2018-05-07 05:17:02               12        28"
      ]
     },
     "execution_count": 22,
     "metadata": {},
     "output_type": "execute_result"
    }
   ],
   "source": [
    "#for i, row in ip_per_10sec.iterrows():\n",
    "#  ifor_val = something\n",
    "#  if <condition>:\n",
    "#    ifor_val = something_else\n",
    "#  df.set_value(i,'ifor',ifor_val)\n",
    "\n",
    "\n",
    "#for i in ip_per_10sec.index:\n",
    "#    if <something>:\n",
    "#        df.at[i, 'ifor'] = x\n",
    "#    else:\n",
    "#        df.at[i, 'ifor'] = y\n",
    "\n",
    "#ip_per_10sec['ip_cum'] = ip_per_10sec['num_addresses'].cumsum()\n",
    "ip_per_10sec['ip_cumul'] = ip_per_10sec['mask_conversion'].cumsum()\n",
    "ip_per_10sec"
   ]
  },
  {
   "cell_type": "markdown",
   "metadata": {},
   "source": [
    "### Unnecessarily creating new dataframe to plot accumulation of ip addresses on network over time"
   ]
  },
  {
   "cell_type": "code",
   "execution_count": 23,
   "metadata": {},
   "outputs": [],
   "source": [
    "ip = ip_per_10sec.reset_index()\n",
    "ips_over_time = ip[['date', 'ip_cumul']]"
   ]
  },
  {
   "cell_type": "code",
   "execution_count": 24,
   "metadata": {},
   "outputs": [],
   "source": [
    "ips_over_time = ips_over_time.set_index(['date'])"
   ]
  },
  {
   "cell_type": "code",
   "execution_count": 25,
   "metadata": {},
   "outputs": [
    {
     "data": {
      "text/html": [
       "<div>\n",
       "<style scoped>\n",
       "    .dataframe tbody tr th:only-of-type {\n",
       "        vertical-align: middle;\n",
       "    }\n",
       "\n",
       "    .dataframe tbody tr th {\n",
       "        vertical-align: top;\n",
       "    }\n",
       "\n",
       "    .dataframe thead th {\n",
       "        text-align: right;\n",
       "    }\n",
       "</style>\n",
       "<table border=\"1\" class=\"dataframe\">\n",
       "  <thead>\n",
       "    <tr style=\"text-align: right;\">\n",
       "      <th></th>\n",
       "      <th>ip_cumul</th>\n",
       "    </tr>\n",
       "    <tr>\n",
       "      <th>date</th>\n",
       "      <th></th>\n",
       "    </tr>\n",
       "  </thead>\n",
       "  <tbody>\n",
       "    <tr>\n",
       "      <th>2018-05-07 05:16:22</th>\n",
       "      <td>4</td>\n",
       "    </tr>\n",
       "    <tr>\n",
       "      <th>2018-05-07 05:16:32</th>\n",
       "      <td>8</td>\n",
       "    </tr>\n",
       "    <tr>\n",
       "      <th>2018-05-07 05:16:42</th>\n",
       "      <td>12</td>\n",
       "    </tr>\n",
       "    <tr>\n",
       "      <th>2018-05-07 05:16:52</th>\n",
       "      <td>16</td>\n",
       "    </tr>\n",
       "    <tr>\n",
       "      <th>2018-05-07 05:17:02</th>\n",
       "      <td>28</td>\n",
       "    </tr>\n",
       "  </tbody>\n",
       "</table>\n",
       "</div>"
      ],
      "text/plain": [
       "                     ip_cumul\n",
       "date                         \n",
       "2018-05-07 05:16:22         4\n",
       "2018-05-07 05:16:32         8\n",
       "2018-05-07 05:16:42        12\n",
       "2018-05-07 05:16:52        16\n",
       "2018-05-07 05:17:02        28"
      ]
     },
     "execution_count": 25,
     "metadata": {},
     "output_type": "execute_result"
    }
   ],
   "source": [
    "ips_over_time"
   ]
  },
  {
   "cell_type": "markdown",
   "metadata": {},
   "source": [
    "### Plot of accumulation of IP adddresses on network over time"
   ]
  },
  {
   "cell_type": "code",
   "execution_count": 26,
   "metadata": {
    "scrolled": true
   },
   "outputs": [
    {
     "data": {
      "image/png": "[encoded data removed]",
      "text/plain": [
       "<matplotlib.figure.Figure at 0x43ce34bc50>"
      ]
     },
     "metadata": {},
     "output_type": "display_data"
    }
   ],
   "source": [
    "ips_over_time.plot()\n",
    "plt.ylabel(\"Number or IP Addresses\")\n",
    "plt.xlabel(\"time\")\n",
    "plt.title(\"Accumulation of IP Addresses on network over time\")\n",
    "plt.savefig(\"test_figures/IP_Accumulation\", dpi=100)"
   ]
  },
  {
   "cell_type": "code",
   "execution_count": null,
   "metadata": {},
   "outputs": [],
   "source": []
  },
  {
   "cell_type": "code",
   "execution_count": null,
   "metadata": {},
   "outputs": [],
   "source": []
  },
  {
   "cell_type": "code",
   "execution_count": null,
   "metadata": {},
   "outputs": [],
   "source": []
  },
  {
   "cell_type": "code",
   "execution_count": null,
   "metadata": {},
   "outputs": [],
   "source": []
  },
  {
   "cell_type": "code",
   "execution_count": null,
   "metadata": {},
   "outputs": [],
   "source": []
  }
 ],
 "metadata": {
  "kernelspec": {
   "display_name": "Python 3",
   "language": "python",
   "name": "python3"
  },
  "language_info": {
   "codemirror_mode": {
    "name": "ipython",
    "version": 3
   },
   "file_extension": ".py",
   "mimetype": "text/x-python",
   "name": "python",
   "nbconvert_exporter": "python",
   "pygments_lexer": "ipython3",
   "version": "3.6.5"
  }
 },
 "nbformat": 4,
 "nbformat_minor": 2
}
